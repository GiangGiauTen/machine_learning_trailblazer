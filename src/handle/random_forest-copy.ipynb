{
 "cells": [
  {
   "cell_type": "code",
   "execution_count": 1,
   "metadata": {},
   "outputs": [
    {
     "name": "stdout",
     "output_type": "stream",
     "text": [
      "Requirement already satisfied: pandas in e:\\ml\\machine_learning_trailblazer\\env\\lib\\site-packages (2.1.1)\n",
      "Requirement already satisfied: numpy>=1.26.0 in e:\\ml\\machine_learning_trailblazer\\env\\lib\\site-packages (from pandas) (1.26.0)\n",
      "Requirement already satisfied: python-dateutil>=2.8.2 in e:\\ml\\machine_learning_trailblazer\\env\\lib\\site-packages (from pandas) (2.8.2)\n",
      "Requirement already satisfied: pytz>=2020.1 in e:\\ml\\machine_learning_trailblazer\\env\\lib\\site-packages (from pandas) (2023.3.post1)\n",
      "Requirement already satisfied: tzdata>=2022.1 in e:\\ml\\machine_learning_trailblazer\\env\\lib\\site-packages (from pandas) (2023.3)\n",
      "Requirement already satisfied: six>=1.5 in e:\\ml\\machine_learning_trailblazer\\env\\lib\\site-packages (from python-dateutil>=2.8.2->pandas) (1.16.0)\n"
     ]
    },
    {
     "name": "stderr",
     "output_type": "stream",
     "text": [
      "\n",
      "[notice] A new release of pip is available: 23.2.1 -> 23.3.2\n",
      "[notice] To update, run: python.exe -m pip install --upgrade pip\n"
     ]
    }
   ],
   "source": [
    "!pip install pandas"
   ]
  },
  {
   "cell_type": "code",
   "execution_count": 2,
   "metadata": {},
   "outputs": [
    {
     "ename": "ModuleNotFoundError",
     "evalue": "No module named 'sklearn'",
     "output_type": "error",
     "traceback": [
      "\u001b[1;31m---------------------------------------------------------------------------\u001b[0m",
      "\u001b[1;31mModuleNotFoundError\u001b[0m                       Traceback (most recent call last)",
      "Cell \u001b[1;32mIn[2], line 1\u001b[0m\n\u001b[1;32m----> 1\u001b[0m \u001b[38;5;28;01mfrom\u001b[39;00m \u001b[38;5;21;01msklearn\u001b[39;00m\u001b[38;5;21;01m.\u001b[39;00m\u001b[38;5;21;01mensemble\u001b[39;00m \u001b[38;5;28;01mimport\u001b[39;00m RandomForestClassifier\n\u001b[0;32m      2\u001b[0m \u001b[38;5;28;01mimport\u001b[39;00m \u001b[38;5;21;01mpandas\u001b[39;00m \u001b[38;5;28;01mas\u001b[39;00m \u001b[38;5;21;01mpd\u001b[39;00m\n\u001b[0;32m      3\u001b[0m \u001b[38;5;28;01mfrom\u001b[39;00m \u001b[38;5;21;01msklearn\u001b[39;00m\u001b[38;5;21;01m.\u001b[39;00m\u001b[38;5;21;01mmetrics\u001b[39;00m \u001b[38;5;28;01mimport\u001b[39;00m accuracy_score\n",
      "\u001b[1;31mModuleNotFoundError\u001b[0m: No module named 'sklearn'"
     ]
    }
   ],
   "source": [
    "from sklearn.ensemble import RandomForestClassifier\n",
    "import pandas as pd\n",
    "from sklearn.metrics import accuracy_score"
   ]
  },
  {
   "cell_type": "code",
   "execution_count": 21,
   "metadata": {},
   "outputs": [
    {
     "name": "stdout",
     "output_type": "stream",
     "text": [
      "/home/ngochm/Desktop/hocmay/machine_learning_trailblazer-main/src\n"
     ]
    }
   ],
   "source": [
    "import os\n",
    "print(os.getcwd())\n"
   ]
  },
  {
   "cell_type": "code",
   "execution_count": 22,
   "metadata": {},
   "outputs": [
    {
     "name": "stdout",
     "output_type": "stream",
     "text": [
      "Tệp tin '/home/ngochm/Desktop/hocmay/machine_learning_trailblazer-main/src/handle/song_data.csv' tồn tại.\n"
     ]
    }
   ],
   "source": [
    "import os\n",
    "\n",
    "# Tạo đường dẫn đầy đủ đến tệp tin 'songdata.csv'\n",
    "file_path = os.path.join('/home/ngochm/Desktop/hocmay/machine_learning_trailblazer-main/src/handle/', 'song_data.csv')\n",
    "\n",
    "# Kiểm tra xem tệp tin tồn tại hay không\n",
    "if os.path.exists(file_path):\n",
    "    print(f\"Tệp tin '{file_path}' tồn tại.\")\n",
    "else:\n",
    "    print(f\"Tệp tin '{file_path}' không tồn tại.\")\n"
   ]
  },
  {
   "cell_type": "code",
   "execution_count": 23,
   "metadata": {},
   "outputs": [
    {
     "name": "stderr",
     "output_type": "stream",
     "text": [
      "/tmp/ipykernel_6226/3296968889.py:1: DtypeWarning: Columns (2,3) have mixed types. Specify dtype option on import or set low_memory=False.\n",
      "  train_df = pd.read_csv(file_path)\n",
      "/tmp/ipykernel_6226/3296968889.py:2: DtypeWarning: Columns (2,3) have mixed types. Specify dtype option on import or set low_memory=False.\n",
      "  test_df = pd.read_csv(file_path)\n"
     ]
    }
   ],
   "source": [
    "train_df = pd.read_csv(file_path)\n",
    "test_df = pd.read_csv(file_path)"
   ]
  },
  {
   "cell_type": "code",
   "execution_count": 24,
   "metadata": {},
   "outputs": [
    {
     "name": "stdout",
     "output_type": "stream",
     "text": [
      "Giá trị thiếu trong các cột:\n",
      "title                      1\n",
      "artist                     0\n",
      "area                   91434\n",
      "youtube_link          186066\n",
      "spotify_link               0\n",
      "youtube_view_count    200739\n",
      "youtube_like_count    201517\n",
      "acousticness               0\n",
      "danceability               0\n",
      "duration_ms                0\n",
      "energy                     0\n",
      "instrumentalness           0\n",
      "key                        0\n",
      "liveness                   0\n",
      "loudness                   0\n",
      "mode                       0\n",
      "speechiness                0\n",
      "tempo                      0\n",
      "time_signature             0\n",
      "valence                    0\n",
      "popularity            261643\n",
      "dtype: int64\n"
     ]
    }
   ],
   "source": [
    "import pandas as pd\n",
    "\n",
    "# Đọc dữ liệu từ file CSV (thay đổi tên file nếu cần)\n",
    "df = train_df\n",
    "\n",
    "# Loại bỏ bản ghi trùng lặp\n",
    "df.drop_duplicates(inplace=True)\n",
    "\n",
    "# Kiểm tra giá trị thiếu\n",
    "missing_values = df.isnull().sum()\n",
    "print(\"Giá trị thiếu trong các cột:\")\n",
    "print(missing_values)\n",
    "\n",
    "# Chuyển đổi kiểu dữ liệu nếu cần\n",
    "df['duration_ms'] = pd.to_numeric(df['duration_ms'], errors='coerce')\n",
    "\n",
    "# Xử lý giá trị thiếu, ví dụ: điền giá trị thiếu bằng trung bình của cột\n",
    "df['duration_ms'].fillna(df['duration_ms'].mean(), inplace=True)\n",
    "\n",
    "# Kiểm tra giá trị ngoại lệ và xử lý nếu cần\n",
    "# Ví dụ: loại bỏ các bản ghi có tempo lớn hơn 200\n",
    "df = df[df['tempo'] <= 200]\n",
    "\n",
    "# Lưu trữ dữ liệu sau khi tiền xử lý\n",
    "df.to_csv('du_lieu_tien_xu_ly.csv', index=False)\n"
   ]
  },
  {
   "cell_type": "code",
   "execution_count": 25,
   "metadata": {},
   "outputs": [
    {
     "name": "stderr",
     "output_type": "stream",
     "text": [
      "/tmp/ipykernel_6226/4161282573.py:2: SettingWithCopyWarning: \n",
      "A value is trying to be set on a copy of a slice from a DataFrame\n",
      "\n",
      "See the caveats in the documentation: https://pandas.pydata.org/pandas-docs/stable/user_guide/indexing.html#returning-a-view-versus-a-copy\n",
      "  df['title'].fillna('Unknown', inplace=True)\n",
      "/tmp/ipykernel_6226/4161282573.py:3: SettingWithCopyWarning: \n",
      "A value is trying to be set on a copy of a slice from a DataFrame\n",
      "\n",
      "See the caveats in the documentation: https://pandas.pydata.org/pandas-docs/stable/user_guide/indexing.html#returning-a-view-versus-a-copy\n",
      "  df['area'].fillna('Unknown', inplace=True)  # hoặc có thể xem xét loại bỏ cột này\n",
      "/tmp/ipykernel_6226/4161282573.py:6: SettingWithCopyWarning: \n",
      "A value is trying to be set on a copy of a slice from a DataFrame\n",
      "\n",
      "See the caveats in the documentation: https://pandas.pydata.org/pandas-docs/stable/user_guide/indexing.html#returning-a-view-versus-a-copy\n",
      "  df.drop(columns=['youtube_link', 'youtube_view_count', 'youtube_like_count'], inplace=True)\n",
      "/tmp/ipykernel_6226/4161282573.py:9: SettingWithCopyWarning: \n",
      "A value is trying to be set on a copy of a slice from a DataFrame\n",
      "\n",
      "See the caveats in the documentation: https://pandas.pydata.org/pandas-docs/stable/user_guide/indexing.html#returning-a-view-versus-a-copy\n",
      "  df['popularity'].fillna(df['popularity'].mean(), inplace=True)\n"
     ]
    }
   ],
   "source": [
    "# Xử lý giá trị thiếu cho title và area\n",
    "df['title'].fillna('Unknown', inplace=True)\n",
    "df['area'].fillna('Unknown', inplace=True)  # hoặc có thể xem xét loại bỏ cột này\n",
    "\n",
    "# Xử lý giá trị thiếu cho các cột liên quan đến YouTube\n",
    "df.drop(columns=['youtube_link', 'youtube_view_count', 'youtube_like_count'], inplace=True)\n",
    "\n",
    "# Xử lý giá trị thiếu cho cột 'popularity'\n",
    "df['popularity'].fillna(df['popularity'].mean(), inplace=True)\n",
    "\n",
    "# Kiểm tra lại giá trị ngoại lệ và xử lý nếu cần\n",
    "# Ví dụ: loại bỏ các bản ghi có acousticness lớn hơn 1\n",
    "df = df[df['acousticness'] <= 1]\n",
    "\n",
    "# Lưu trữ dữ liệu sau khi xử lý\n",
    "df.to_csv('du_lieu_da_xu_ly.csv', index=False)\n"
   ]
  },
  {
   "cell_type": "code",
   "execution_count": 26,
   "metadata": {},
   "outputs": [],
   "source": [
    "from sklearn.model_selection import train_test_split\n",
    "\n",
    "features = ['danceability', 'energy', 'valence', 'tempo']\n",
    "X = df[features]\n",
    "y = df['popularity']\n",
    "\n",
    "X_train, X_test, y_train, y_test = train_test_split(X, y, test_size=0.2, random_state=42)\n",
    " \n"
   ]
  },
  {
   "cell_type": "code",
   "execution_count": 29,
   "metadata": {},
   "outputs": [
    {
     "name": "stdout",
     "output_type": "stream",
     "text": [
      "        danceability  energy  valence    tempo\n",
      "3759           0.643   0.663    0.039  142.020\n",
      "221026         0.669   0.391    0.798  150.128\n",
      "96587          0.578   0.942    0.530  127.835\n",
      "253224         0.728   0.401    0.644  119.966\n",
      "389049         0.667   0.860    0.461  150.114\n",
      "...              ...     ...      ...      ...\n",
      "261237         0.530   0.677    0.199  117.137\n",
      "368431         0.357   0.227    0.157  108.600\n",
      "132993         0.308   0.930    0.603  172.772\n",
      "148027         0.626   0.536    0.582  126.463\n",
      "122940         0.386   0.348    0.265   84.376\n",
      "\n",
      "[311423 rows x 4 columns] 3759      24.136666\n",
      "221026    24.136666\n",
      "96587     56.000000\n",
      "253224    24.136666\n",
      "389049    57.000000\n",
      "            ...    \n",
      "261237    24.136666\n",
      "368431     2.000000\n",
      "132993    24.136666\n",
      "148027    24.136666\n",
      "122940    24.136666\n",
      "Name: popularity, Length: 311423, dtype: float64\n"
     ]
    }
   ],
   "source": [
    "print(X_train, y_train)"
   ]
  },
  {
   "cell_type": "code",
   "execution_count": 28,
   "metadata": {},
   "outputs": [
    {
     "data": {
      "text/html": [
       "<style>#sk-container-id-2 {color: black;}#sk-container-id-2 pre{padding: 0;}#sk-container-id-2 div.sk-toggleable {background-color: white;}#sk-container-id-2 label.sk-toggleable__label {cursor: pointer;display: block;width: 100%;margin-bottom: 0;padding: 0.3em;box-sizing: border-box;text-align: center;}#sk-container-id-2 label.sk-toggleable__label-arrow:before {content: \"▸\";float: left;margin-right: 0.25em;color: #696969;}#sk-container-id-2 label.sk-toggleable__label-arrow:hover:before {color: black;}#sk-container-id-2 div.sk-estimator:hover label.sk-toggleable__label-arrow:before {color: black;}#sk-container-id-2 div.sk-toggleable__content {max-height: 0;max-width: 0;overflow: hidden;text-align: left;background-color: #f0f8ff;}#sk-container-id-2 div.sk-toggleable__content pre {margin: 0.2em;color: black;border-radius: 0.25em;background-color: #f0f8ff;}#sk-container-id-2 input.sk-toggleable__control:checked~div.sk-toggleable__content {max-height: 200px;max-width: 100%;overflow: auto;}#sk-container-id-2 input.sk-toggleable__control:checked~label.sk-toggleable__label-arrow:before {content: \"▾\";}#sk-container-id-2 div.sk-estimator input.sk-toggleable__control:checked~label.sk-toggleable__label {background-color: #d4ebff;}#sk-container-id-2 div.sk-label input.sk-toggleable__control:checked~label.sk-toggleable__label {background-color: #d4ebff;}#sk-container-id-2 input.sk-hidden--visually {border: 0;clip: rect(1px 1px 1px 1px);clip: rect(1px, 1px, 1px, 1px);height: 1px;margin: -1px;overflow: hidden;padding: 0;position: absolute;width: 1px;}#sk-container-id-2 div.sk-estimator {font-family: monospace;background-color: #f0f8ff;border: 1px dotted black;border-radius: 0.25em;box-sizing: border-box;margin-bottom: 0.5em;}#sk-container-id-2 div.sk-estimator:hover {background-color: #d4ebff;}#sk-container-id-2 div.sk-parallel-item::after {content: \"\";width: 100%;border-bottom: 1px solid gray;flex-grow: 1;}#sk-container-id-2 div.sk-label:hover label.sk-toggleable__label {background-color: #d4ebff;}#sk-container-id-2 div.sk-serial::before {content: \"\";position: absolute;border-left: 1px solid gray;box-sizing: border-box;top: 0;bottom: 0;left: 50%;z-index: 0;}#sk-container-id-2 div.sk-serial {display: flex;flex-direction: column;align-items: center;background-color: white;padding-right: 0.2em;padding-left: 0.2em;position: relative;}#sk-container-id-2 div.sk-item {position: relative;z-index: 1;}#sk-container-id-2 div.sk-parallel {display: flex;align-items: stretch;justify-content: center;background-color: white;position: relative;}#sk-container-id-2 div.sk-item::before, #sk-container-id-2 div.sk-parallel-item::before {content: \"\";position: absolute;border-left: 1px solid gray;box-sizing: border-box;top: 0;bottom: 0;left: 50%;z-index: -1;}#sk-container-id-2 div.sk-parallel-item {display: flex;flex-direction: column;z-index: 1;position: relative;background-color: white;}#sk-container-id-2 div.sk-parallel-item:first-child::after {align-self: flex-end;width: 50%;}#sk-container-id-2 div.sk-parallel-item:last-child::after {align-self: flex-start;width: 50%;}#sk-container-id-2 div.sk-parallel-item:only-child::after {width: 0;}#sk-container-id-2 div.sk-dashed-wrapped {border: 1px dashed gray;margin: 0 0.4em 0.5em 0.4em;box-sizing: border-box;padding-bottom: 0.4em;background-color: white;}#sk-container-id-2 div.sk-label label {font-family: monospace;font-weight: bold;display: inline-block;line-height: 1.2em;}#sk-container-id-2 div.sk-label-container {text-align: center;}#sk-container-id-2 div.sk-container {/* jupyter's `normalize.less` sets `[hidden] { display: none; }` but bootstrap.min.css set `[hidden] { display: none !important; }` so we also need the `!important` here to be able to override the default hidden behavior on the sphinx rendered scikit-learn.org. See: https://github.com/scikit-learn/scikit-learn/issues/21755 */display: inline-block !important;position: relative;}#sk-container-id-2 div.sk-text-repr-fallback {display: none;}</style><div id=\"sk-container-id-2\" class=\"sk-top-container\"><div class=\"sk-text-repr-fallback\"><pre>RandomForestRegressor(n_estimators=200, random_state=42)</pre><b>In a Jupyter environment, please rerun this cell to show the HTML representation or trust the notebook. <br />On GitHub, the HTML representation is unable to render, please try loading this page with nbviewer.org.</b></div><div class=\"sk-container\" hidden><div class=\"sk-item\"><div class=\"sk-estimator sk-toggleable\"><input class=\"sk-toggleable__control sk-hidden--visually\" id=\"sk-estimator-id-2\" type=\"checkbox\" checked><label for=\"sk-estimator-id-2\" class=\"sk-toggleable__label sk-toggleable__label-arrow\">RandomForestRegressor</label><div class=\"sk-toggleable__content\"><pre>RandomForestRegressor(n_estimators=200, random_state=42)</pre></div></div></div></div></div>"
      ],
      "text/plain": [
       "RandomForestRegressor(n_estimators=200, random_state=42)"
      ]
     },
     "execution_count": 28,
     "metadata": {},
     "output_type": "execute_result"
    }
   ],
   "source": [
    "from sklearn.ensemble import RandomForestRegressor\n",
    "\n",
    "# Tạo mô hình\n",
    "rf_model = RandomForestRegressor(n_estimators=200, random_state=42)\n",
    "\n",
    "# Huấn luyện mô hình\n",
    "rf_model.fit(X_train, y_train)\n"
   ]
  },
  {
   "cell_type": "code",
   "execution_count": 30,
   "metadata": {},
   "outputs": [
    {
     "name": "stdout",
     "output_type": "stream",
     "text": [
      "Mean Squared Error: 127.7926887912887\n"
     ]
    }
   ],
   "source": [
    "# Dự đoán trên tập kiểm tra\n",
    "predictions = rf_model.predict(X_test)\n",
    "\n",
    "# Đánh giá mô hình\n",
    "mse = mean_squared_error(y_test, predictions)\n",
    "print(f'Mean Squared Error: {mse}')\n"
   ]
  },
  {
   "cell_type": "code",
   "execution_count": null,
   "metadata": {},
   "outputs": [
    {
     "name": "stdout",
     "output_type": "stream",
     "text": [
      "Giá trị thiếu sau khi xử lý:\n",
      "title                 0\n",
      "artist                0\n",
      "youtube_view_count    0\n",
      "youtube_like_count    0\n",
      "acousticness          0\n",
      "danceability          0\n",
      "duration_ms           0\n",
      "energy                0\n",
      "instrumentalness      0\n",
      "key                   0\n",
      "liveness              0\n",
      "loudness              0\n",
      "mode                  0\n",
      "speechiness           0\n",
      "tempo                 0\n",
      "time_signature        0\n",
      "valence               0\n",
      "popularity            0\n",
      "dtype: int64\n"
     ]
    },
    {
     "name": "stderr",
     "output_type": "stream",
     "text": [
      "/tmp/ipykernel_6226/3464958940.py:2: SettingWithCopyWarning: \n",
      "A value is trying to be set on a copy of a slice from a DataFrame\n",
      "\n",
      "See the caveats in the documentation: https://pandas.pydata.org/pandas-docs/stable/user_guide/indexing.html#returning-a-view-versus-a-copy\n",
      "  df.drop(columns=['area', 'youtube_link', 'spotify_link'], inplace=True)\n",
      "/tmp/ipykernel_6226/3464958940.py:5: SettingWithCopyWarning: \n",
      "A value is trying to be set on a copy of a slice from a DataFrame\n",
      "\n",
      "See the caveats in the documentation: https://pandas.pydata.org/pandas-docs/stable/user_guide/indexing.html#returning-a-view-versus-a-copy\n",
      "  df['title'].fillna('Unknown', inplace=True)\n",
      "/tmp/ipykernel_6226/3464958940.py:8: SettingWithCopyWarning: \n",
      "A value is trying to be set on a copy of a slice from a DataFrame\n",
      "\n",
      "See the caveats in the documentation: https://pandas.pydata.org/pandas-docs/stable/user_guide/indexing.html#returning-a-view-versus-a-copy\n",
      "  df['youtube_view_count'].fillna(df['youtube_view_count'].mean(), inplace=True)\n",
      "/tmp/ipykernel_6226/3464958940.py:9: SettingWithCopyWarning: \n",
      "A value is trying to be set on a copy of a slice from a DataFrame\n",
      "\n",
      "See the caveats in the documentation: https://pandas.pydata.org/pandas-docs/stable/user_guide/indexing.html#returning-a-view-versus-a-copy\n",
      "  df['youtube_like_count'].fillna(df['youtube_like_count'].mean(), inplace=True)\n",
      "/tmp/ipykernel_6226/3464958940.py:10: SettingWithCopyWarning: \n",
      "A value is trying to be set on a copy of a slice from a DataFrame\n",
      "\n",
      "See the caveats in the documentation: https://pandas.pydata.org/pandas-docs/stable/user_guide/indexing.html#returning-a-view-versus-a-copy\n",
      "  df['popularity'].fillna(df['popularity'].mean(), inplace=True)\n"
     ]
    }
   ],
   "source": [
    "# Loại bỏ cột không quan trọng\n",
    "df.drop(columns=['area', 'youtube_link', 'spotify_link'], inplace=True)\n",
    "\n",
    "# Điền giá trị thiếu cho title\n",
    "df['title'].fillna('Unknown', inplace=True)\n",
    "\n",
    "# Điền giá trị thiếu cho các cột số\n",
    "df['youtube_view_count'].fillna(df['youtube_view_count'].mean(), inplace=True)\n",
    "df['youtube_like_count'].fillna(df['youtube_like_count'].mean(), inplace=True)\n",
    "df['popularity'].fillna(df['popularity'].mean(), inplace=True)\n",
    "\n",
    "# Kiểm tra lại giá trị thiếu\n",
    "missing_values_after = df.isnull().sum()\n",
    "print(\"Giá trị thiếu sau khi xử lý:\")\n",
    "print(missing_values_after)\n"
   ]
  }
 ],
 "metadata": {
  "kernelspec": {
   "display_name": "Python 3 (ipykernel)",
   "language": "python",
   "name": "python3"
  },
  "language_info": {
   "codemirror_mode": {
    "name": "ipython",
    "version": 3
   },
   "file_extension": ".py",
   "mimetype": "text/x-python",
   "name": "python",
   "nbconvert_exporter": "python",
   "pygments_lexer": "ipython3",
   "version": "3.12.0"
  }
 },
 "nbformat": 4,
 "nbformat_minor": 4
}
