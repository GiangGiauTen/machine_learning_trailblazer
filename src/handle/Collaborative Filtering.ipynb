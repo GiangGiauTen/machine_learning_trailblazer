{
 "cells": [
  {
   "cell_type": "code",
   "execution_count": 18,
   "id": "aaec0c75-f97c-42e6-9ec5-ee1f2b5951b5",
   "metadata": {},
   "outputs": [],
   "source": [
    "from sklearn.model_selection import train_test_split\n",
    "from sklearn.neighbors import NearestNeighbors\n",
    "from sklearn.metrics.pairwise import cosine_similarity\n",
    "import numpy as np\n",
    "import json\n",
    "from sklearn.metrics import roc_auc_score\n",
    "from sklearn.metrics import average_precision_score\n",
    "from sklearn.metrics import ndcg_score\n",
    "from scipy.stats import rankdata\n",
    "from scipy.sparse import csr_matrix\n",
    "from sklearn.preprocessing import StandardScaler"
   ]
  },
  {
   "cell_type": "code",
   "execution_count": 27,
   "id": "176020a4-8152-4082-b9c9-9e91e817e550",
   "metadata": {},
   "outputs": [],
   "source": [
    "file_list = [\"playlist.json\"] #, \"playlist2.json\", \"playlist3.json\", \"playlist4.json\", \"playlist5.json\"]"
   ]
  },
  {
   "cell_type": "code",
   "execution_count": 63,
   "id": "97a46d9f-3135-4a6f-b7e3-a637968e7298",
   "metadata": {},
   "outputs": [],
   "source": [
    "def find_similar_playlists(playlist_id, similarity_matrix, number_of_playlists = 10):\n",
    "    playlist_similarity_scores = similarity_matrix[playlist_id]\n",
    "    similar_playlist_indices = playlist_similarity_scores.argsort()[:-number_of_playlists-2:-1]\n",
    "    similar_playlist_indices = [index for index in similar_playlist_indices if index != playlist_id]\n",
    "    similar_playlist_scores = playlist_similarity_scores[similar_playlist_indices]\n",
    "    return similar_playlist_indices, similar_playlist_scores"
   ]
  },
  {
   "cell_type": "code",
   "execution_count": 85,
   "id": "b7b13e58-019b-494f-a66d-c0d0d2397c0f",
   "metadata": {},
   "outputs": [
    {
     "name": "stdout",
     "output_type": "stream",
     "text": [
      "30RRzWqys8uIH4PM5cfPU2\n",
      "Song Index: 29490, Song: 2cZrrQMjB63c0iIugYH9zS\n",
      "Song Index: 6315, Song: 0YJPnuDiRc85oU1FdWa4ij\n",
      "Song Index: 26643, Song: 0M1JWs0Bqk5MatyRq2CfKY\n",
      "Song Index: 4121, Song: 5dTrfP8uUjHyjO23PxjHi2\n",
      "Song Index: 12676, Song: 1NhjYYcYTRywc0di98xHxf\n",
      "Song Index: 26979, Song: 219JFLfxvaJohp4D5S3Unf\n",
      "Song Index: 23932, Song: 7dfSLUvvnO63sp6o6uvMA5\n",
      "Song Index: 33070, Song: 7oRpS6xml8gG9l4XWFk41a\n",
      "Song Index: 10327, Song: 34brgtDHRFbjKR4yHIGI31\n",
      "Song Index: 27329, Song: 0LzidBf7cUsnZnG34OUPSF\n",
      "Song Index: 23923, Song: 5F7AoCwgftgUdGUgd57RVE\n",
      "Song Index: 24342, Song: 3lEgJXucXfkLyfONuUwC9K\n",
      "Song Index: 25785, Song: 1qd1ipkgtdhbiJ2UiAH1HM\n",
      "Song Index: 27340, Song: 22DRA2em8kN01PTtasTPXv\n",
      "Song Index: 29299, Song: 0GX9k4ni4IDqU1vRHVPmiw\n",
      "Song Index: 1592, Song: 1Eu00VxwsLMjHI6nQZ9RtW\n",
      "Song Index: 19708, Song: 6xtikyQjxhR55y46lzp9W9\n",
      "Song Index: 24531, Song: 0OOc4CWq6Cg8fTFE1vCvwS\n",
      "Song Index: 21283, Song: 5au3jBfE3ySuVd3rg0UbYO\n",
      "Song Index: 28815, Song: 1VziLmorXUGxwBPplIy09f\n"
     ]
    }
   ],
   "source": [
    "for filename in file_list:\n",
    "    file_data = open(f'./{filename}', 'r')\n",
    "    playlists = json.load(file_data)\n",
    "    all_songs = list(set(song for user in playlists for song in user))\n",
    "    song_to_index = {song: i for i, song in enumerate(all_songs)}\n",
    "    playlist_songs = np.zeros((len(playlists), len(all_songs))).astype('int')\n",
    "    for i, playlist in enumerate(playlists):\n",
    "        for song in playlist:\n",
    "            playlist_songs[i, song_to_index[song]] = 1\n",
    "\n",
    "    playlist_songs_copy = np.copy(playlist_songs)\n",
    "    # Calculate cosine similarity matrix using training data\n",
    "    similarity_matrix = cosine_similarity(playlist_songs_copy)\n",
    "    similar_playlist_indices, similar_playlist_scores = find_similar_playlists(20, similarity_matrix)\n",
    "\n",
    "    recommendation_points = np.sum(playlist_songs_copy[similar_playlist_indices] * similar_playlist_scores[:, np.newaxis], axis = 0)\n",
    "    total_recommend_list_point = np.sum(similar_playlist_scores)\n",
    "    sorted_indices = np.argsort(recommendation_points)[::-1]\n",
    "    \n",
    "    # Create an index_to_song dictionary\n",
    "    index_to_song = {index: song for song, index in song_to_index.items()}\n",
    "\n",
    "    # Print the indices of recommended songs along with their corresponding songs\n",
    "    print(index_to_song[20])\n",
    "    for sorted_index in sorted_indices[:20]:\n",
    "        print(f\"Song Index: {sorted_index}, Song: {index_to_song[sorted_index]}\")"
   ]
  },
  {
   "cell_type": "code",
   "execution_count": null,
   "id": "12351aa5-4742-41fe-a6dc-ec47ad8802e4",
   "metadata": {
    "scrolled": true
   },
   "outputs": [],
   "source": [
    "def reciprocal_rank(ranking):\n",
    "    return 1 / ranking[0]\n",
    "\n",
    "def ndcg_at_k(ranking, k):\n",
    "    ideal_ranking = sorted(ranking, reverse=True)[:k]\n",
    "    dcg = np.sum([(2**rel - 1) / np.log2(i + 2) for i, rel in enumerate(ranking)])\n",
    "    idcg = np.sum([(2**rel - 1) / np.log2(i + 2) for i, rel in enumerate(ideal_ranking)])\n",
    "    return dcg / idcg if idcg > 0 else 0"
   ]
  }
 ],
 "metadata": {
  "kernelspec": {
   "display_name": "Python 3 (ipykernel)",
   "language": "python",
   "name": "python3"
  },
  "language_info": {
   "codemirror_mode": {
    "name": "ipython",
    "version": 3
   },
   "file_extension": ".py",
   "mimetype": "text/x-python",
   "name": "python",
   "nbconvert_exporter": "python",
   "pygments_lexer": "ipython3",
   "version": "3.12.0"
  }
 },
 "nbformat": 4,
 "nbformat_minor": 5
}
