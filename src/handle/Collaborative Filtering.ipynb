{
 "cells": [
  {
   "cell_type": "markdown",
   "id": "4e2545c0-304a-4a18-8af3-f5ca866cd4cb",
   "metadata": {},
   "source": [
    "# Phương pháp: Collaborative Filtering"
   ]
  },
  {
   "cell_type": "code",
   "execution_count": 38,
   "id": "aaec0c75-f97c-42e6-9ec5-ee1f2b5951b5",
   "metadata": {},
   "outputs": [],
   "source": [
    "from sklearn.model_selection import train_test_split\n",
    "from sklearn.neighbors import NearestNeighbors\n",
    "from sklearn.metrics.pairwise import cosine_similarity\n",
    "import numpy as np\n",
    "import json\n",
    "from sklearn.metrics import roc_auc_score\n",
    "from sklearn.metrics import average_precision_score\n",
    "from sklearn.metrics import ndcg_score\n",
    "from scipy.stats import rankdata\n",
    "from scipy.sparse import csr_matrix\n",
    "from sklearn.preprocessing import StandardScaler\n",
    "from IPython.display import clear_output\n",
    "import matplotlib.pyplot as plt"
   ]
  },
  {
   "cell_type": "markdown",
   "id": "253ba90b-34b0-4c3f-bada-917378a4b0ed",
   "metadata": {},
   "source": [
    "### Playlist data file"
   ]
  },
  {
   "cell_type": "code",
   "execution_count": 2,
   "id": "176020a4-8152-4082-b9c9-9e91e817e550",
   "metadata": {},
   "outputs": [],
   "source": [
    "filename = \"playlist.json\" "
   ]
  },
  {
   "cell_type": "markdown",
   "id": "dee09fdf-6683-427c-80b2-dd092b3e265e",
   "metadata": {},
   "source": [
    "**Hàm find_similar_playlists**\n",
    "- Input:\n",
    "    - playlist_id: id của playlist (theo thứ tự)\n",
    "    - similarity_matrix: ma trận độ \"giống\" giữa các playlist\n",
    "    - number_of_neighbor_playlists: số lượng playlist tương tự xem xét\n",
    "- Output:\n",
    "    - similar_playlist_indices: chỉ số của các bài hát được gợi ý\n",
    "    - similar_playlist_scores: độ giống nhau của các bài hát được gợi ý"
   ]
  },
  {
   "cell_type": "code",
   "execution_count": 35,
   "id": "97a46d9f-3135-4a6f-b7e3-a637968e7298",
   "metadata": {},
   "outputs": [],
   "source": [
    "def find_similar_playlists(playlist_id, similarity_matrix, number_of_neighbor_playlists):\n",
    "    playlist_similarity_scores = similarity_matrix[playlist_id]\n",
    "    similar_playlist_indices = playlist_similarity_scores.argsort()[:-number_of_neighbor_playlists-2:-1]\n",
    "    similar_playlist_indices = [index for index in similar_playlist_indices if index != playlist_id]\n",
    "    similar_playlist_scores = playlist_similarity_scores[similar_playlist_indices]\n",
    "    return similar_playlist_indices, similar_playlist_scores"
   ]
  },
  {
   "attachments": {},
   "cell_type": "markdown",
   "id": "6b19cefe-a266-4792-99fb-4bf459c0f331",
   "metadata": {},
   "source": [
    "- Đọc file\n",
    "- Tiền xử lý: \n",
    "    - Mã hóa các bài hát thành số thứ tự\n",
    "    - Tạo danh sách ma trận giữa playlist và song\n",
    "\n",
    "Ví dụ về ma trận giữa playlist và song\n",
    "\n",
    "![image.png](../../resource/img/playlist_songs.png)"
   ]
  },
  {
   "cell_type": "code",
   "execution_count": 4,
   "id": "a72f0b0c-1789-4b62-bf47-4d7271a75276",
   "metadata": {},
   "outputs": [],
   "source": [
    "file_data = open(f'./{filename}', 'r')\n",
    "playlists = json.load(file_data)\n",
    "all_songs = list(set(song for user in playlists for song in user))\n",
    "song_to_index = {song: i for i, song in enumerate(all_songs)}\n",
    "index_to_song = {index: song for song, index in song_to_index.items()}\n",
    "playlist_songs = np.zeros((len(playlists), len(all_songs))).astype('int')\n",
    "for i, playlist in enumerate(playlists):\n",
    "    for song in playlist:\n",
    "        playlist_songs[i, song_to_index[song]] = 1"
   ]
  },
  {
   "cell_type": "markdown",
   "id": "eb50226a-87a2-49c4-b22e-535056e36831",
   "metadata": {},
   "source": [
    "**Hàm get_recommend_rank_list:**\n",
    "- Input: \n",
    "    - play_list_id: id của playlist\n",
    "    - playlist_songs: Ma trận giữa playlist và songs\n",
    "    - number_of_neighbor_playlists: số lượng playlist tương tự xem xét\n",
    "- Output:\n",
    "    - sorted_indices: danh sách đã sắp xếp của các index theo thứ tự gợi ý\n",
    "\n",
    "Tính cosine_similarity (VD ma trận trên):\n",
    "\n",
    "![image.png](../../resource/img/CS.png)\n",
    "![image.png](../../resource/img/similarity_matrix.png)\n",
    "\n",
    "Giả sử muốn tính điểm gợi ý cho playlist 1 từ playlist 2 và playlist3:\n",
    "- Lấy độ giống nhau giữa playlist 1 và playlist 2 nhân với ma trận playlist 2 \n",
    "- Làm tương tự với playlist 3,  thu được ma trận:\n",
    "\n",
    "![image.png](../../resource/img/step1.png)\n",
    "\n",
    "Tính số điểm gợi ý cho các bài mà playlist 1 chưa có\n",
    "\n",
    "![image.png](../../resource/img/step2.png)"
   ]
  },
  {
   "cell_type": "code",
   "execution_count": 33,
   "id": "b7b13e58-019b-494f-a66d-c0d0d2397c0f",
   "metadata": {},
   "outputs": [],
   "source": [
    "def get_recommend_rank_list(play_list_id, playlist_songs = playlist_songs, number_of_neighbor_playlists = 18):\n",
    "    # Calculate cosine similarity matrix using training data\n",
    "    similarity_matrix = cosine_similarity(playlist_songs)\n",
    "    similar_playlist_indices, similar_playlist_scores = find_similar_playlists(play_list_id, similarity_matrix, number_of_neighbor_playlists)\n",
    "    recommendation_points = np.sum(playlist_songs[similar_playlist_indices] * similar_playlist_scores[:, np.newaxis], axis = 0)\n",
    "    total_recommend_list_point = np.sum(similar_playlist_scores)\n",
    "    sorted_indices = np.argsort(recommendation_points)[::-1]\n",
    "    return sorted_indices"
   ]
  },
  {
   "cell_type": "markdown",
   "id": "8510045a-4f26-433d-b9c6-5bdd5db6185a",
   "metadata": {},
   "source": [
    "## Đánh giá:\n",
    "### Độ đo MMR "
   ]
  },
  {
   "cell_type": "code",
   "execution_count": null,
   "id": "694edbc2-0eff-42e5-b2db-99a0a87e88a0",
   "metadata": {},
   "outputs": [],
   "source": [
    "mean_mmr_arr = {}"
   ]
  },
  {
   "cell_type": "code",
   "execution_count": null,
   "id": "c34ff7fd-c398-45d5-b8e4-9a50291772b5",
   "metadata": {
    "scrolled": true
   },
   "outputs": [],
   "source": [
    "for num_neighbors in range(20, 51, 5):\n",
    "    total_mrr = 0\n",
    "    num_playlists = len(playlist_songs)\n",
    "    for i, vector_track in enumerate(playlist_songs):\n",
    "        print(num_neighbors, i)\n",
    "        playlist_songs_copy = np.copy(playlist_songs)\n",
    "        indices_of_ones = np.where(vector_track == 1)[0]\n",
    "        random_index = 0\n",
    "        if len(indices_of_ones) > 0:\n",
    "            random_index = np.random.choice(indices_of_ones)\n",
    "            playlist_songs_copy[i, random_index] = 0\n",
    "        rank = np.where(get_recommend_rank_list(play_list_id = i, \n",
    "                                                playlist_songs = playlist_songs_copy,\n",
    "                                                number_of_neighbor_playlists = num_neighbors)==random_index)[0]\n",
    "        reciprocal_rank = 1 / (rank[0] + 1) if len(rank) > 0 else 0\n",
    "        total_mrr += reciprocal_rank\n",
    "        clear_output(wait = True)\n",
    "    mean_mrr = total_mrr / num_playlists\n",
    "    mean_mmr_arr[num_neighbors] = mean_mrr"
   ]
  },
  {
   "cell_type": "code",
   "execution_count": 51,
   "id": "c77291b3-2998-4406-9c2b-76c50cd65a3f",
   "metadata": {
    "scrolled": true
   },
   "outputs": [
    {
     "data": {
      "text/plain": [
       "{1: 0.01427409526572659,\n",
       " 2: 0.02480872528198442,\n",
       " 3: 0.039346293049444404,\n",
       " 4: 0.03737729277988237,\n",
       " 5: 0.03985499213920587,\n",
       " 6: 0.05040205198691727,\n",
       " 7: 0.036488672582423026,\n",
       " 8: 0.046885513221254733,\n",
       " 9: 0.05517955940443204,\n",
       " 10: 0.047763357252824254,\n",
       " 11: 0.044993702302380825,\n",
       " 12: 0.039203683714517164,\n",
       " 13: 0.05190614714238842,\n",
       " 14: 0.04353405391623913,\n",
       " 15: 0.05466542257753918,\n",
       " 16: 0.053784939641279,\n",
       " 17: 0.05782099595864262,\n",
       " 18: 0.058558395596120964,\n",
       " 19: 0.054260157152162064,\n",
       " 20: 0.05264040795780811,\n",
       " 25: 0.05353750886692245,\n",
       " 30: 0.04780282123900077,\n",
       " 35: 0.04859110520251957,\n",
       " 40: 0.04657943212250356}"
      ]
     },
     "execution_count": 51,
     "metadata": {},
     "output_type": "execute_result"
    }
   ],
   "source": [
    "mean_mmr_arr"
   ]
  },
  {
   "cell_type": "code",
   "execution_count": 52,
   "id": "e6b4701f-39e0-4d63-9755-07ecc0ee2ee9",
   "metadata": {},
   "outputs": [
    {
     "data": {
      "image/png": "[encoded data removed]",
      "text/plain": [
       "<Figure size 640x480 with 1 Axes>"
      ]
     },
     "metadata": {},
     "output_type": "display_data"
    }
   ],
   "source": [
    "playlist_ids = list(mean_mmr_arr.keys())\n",
    "mean_mmr_values = list(mean_mmr_arr.values())\n",
    "\n",
    "plt.plot(playlist_ids, mean_mmr_values, marker='o', linestyle='-')\n",
    "plt.title('Mean Reciprocal Rank (MMR) Using K-NN')\n",
    "plt.xlabel('Value of K')\n",
    "plt.ylabel('Mean Reciprocal Rank (MMR)')\n",
    "plt.show()"
   ]
  }
 ],
 "metadata": {
  "kernelspec": {
   "display_name": "Python 3 (ipykernel)",
   "language": "python",
   "name": "python3"
  },
  "language_info": {
   "codemirror_mode": {
    "name": "ipython",
    "version": 3
   },
   "file_extension": ".py",
   "mimetype": "text/x-python",
   "name": "python",
   "nbconvert_exporter": "python",
   "pygments_lexer": "ipython3",
   "version": "3.10.8"
  }
 },
 "nbformat": 4,
 "nbformat_minor": 5
}
