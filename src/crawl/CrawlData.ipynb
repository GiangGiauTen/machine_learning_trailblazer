{
 "cells": [
  {
   "cell_type": "code",
   "execution_count": 13,
   "id": "d463051f-7cd3-4a2b-bcab-264f59b96c98",
   "metadata": {},
   "outputs": [],
   "source": [
    "# Chạy cell này đầu tiên\n",
    "from bs4 import BeautifulSoup\n",
    "from IPython.display import clear_output\n",
    "import requests\n",
    "import json\n",
    "import os"
   ]
  },
  {
   "cell_type": "code",
   "execution_count": 21,
   "id": "31d7f355-3dd9-44e7-8b45-5fb3971a4c1c",
   "metadata": {},
   "outputs": [],
   "source": [
    "# Sau đó chạy cell này\n",
    "def getSongInfo(name, url):\n",
    "    try:\n",
    "        response = requests.get(url)\n",
    "        response.raise_for_status()\n",
    "        page_content = response.text\n",
    "        soup = BeautifulSoup(page_content, 'html.parser')\n",
    "        links = soup.select(\".play-this-track-playlinks .play-this-track-playlink\")\n",
    "        result = {}\n",
    "        for link in links:\n",
    "            result[link.getText().strip()] = link['href']\n",
    "        return {name: result}\n",
    "    except requests.exceptions.RequestException as e:\n",
    "        print(f\"Request error: {e}\")\n",
    "        return {name: []}\n",
    "    except Exception as e:\n",
    "        print(f\"An error occurred: {e}\")\n",
    "        return {name: []}\n",
    "def crawlAllSongOfArtist(artist):\n",
    "    try:\n",
    "        allSongs[artist] = []\n",
    "        artistQuery = artist.replace(\" \", \"+\")\n",
    "        url = f\"https://www.last.fm/music/{artistQuery}/+tracks?date_preset=ALL\"\n",
    "        response = requests.get(url)\n",
    "        response.raise_for_status()\n",
    "        page_content = response.text\n",
    "        soup = BeautifulSoup(page_content, 'html.parser')\n",
    "        last_page = int(soup.find_all(attrs={\"class\": \"pagination-page\"})[-1].find('a').get_text().strip())\n",
    "        for i in range(1, last_page+1):\n",
    "        # For test using: \n",
    "        #for i in range(1, 2):\n",
    "            res = requests.get(f\"{url}&page={i}\")\n",
    "            res.raise_for_status()\n",
    "            pg = res.text\n",
    "            soup = BeautifulSoup(pg, 'html.parser')\n",
    "            songs = soup.select(\"tr.chartlist-row > .chartlist-name > a\")\n",
    "            for song in songs:\n",
    "            # For test using: \n",
    "            #for song in songs[:5]:\n",
    "                songName = song.getText()\n",
    "                songUrl = song['href']\n",
    "                allSongs[artist].append(getSongInfo(songName, f\"https://www.last.fm{songUrl}\"))\n",
    "                print(f\"artist: {artist} - page: {i}/{last_page+1} - song: {songName}\")\n",
    "                clear_output(wait=True)\n",
    "    except requests.exceptions.RequestException as e:\n",
    "        print(f\"Request error: {e}\")\n",
    "    except Exception as e:\n",
    "        print(f\"An error occurred: {e}\")"
   ]
  },
  {
   "cell_type": "code",
   "execution_count": 25,
   "id": "860860e4-9c1c-4d72-ae7b-1115f89555b6",
   "metadata": {},
   "outputs": [
    {
     "name": "stdout",
     "output_type": "stream",
     "text": [
      "artist: 070 Shake - page: 1/11 - song: Skin and Bones\n"
     ]
    }
   ],
   "source": [
    "'''\n",
    "Bắt đầu từ đây \n",
    "1. Đổi lại firstIndex và lastIndex dựa vào danh sách nghệ sĩ được yêu cầu\n",
    "2. Chạy cell này. Giữ internet ổn định và cắm máy đấy rồi đi làm việc khác\n",
    "Lưu ý: * Sau mỗi nghệ sĩ crawl thành công sẽ lưu vào file. \n",
    "Do đó có thể chạy tiếp cell này sau khi stop, tiến trình sẽ tiếp tục.\n",
    "Tuy nhiên nên hạn chế để tránh lỗi\n",
    "\n",
    "* Nếu thấy log bên dưới error, lập tức bấm Interrupt và kiểm tra lại internet\n",
    "'''\n",
    "allArtist = []\n",
    "targetFileData = {}\n",
    "allSongs = {}\n",
    "firstIndex = 0\n",
    "lastIndex = 5\n",
    "targetFileName = f'./songData{firstIndex}-{lastIndex}.json'\n",
    "# File danh sách nghệ sĩ\n",
    "with open('./artistList.json') as user_file:\n",
    "    file_contents = user_file.read()\n",
    "    allArtist = list(json.loads(file_contents))\n",
    "\n",
    "if os.path.exists(targetFileName):\n",
    "    with open(targetFileName) as resultFile:\n",
    "        file_contents = resultFile.read()\n",
    "        targetFileData = dict(json.loads(file_contents))\n",
    "else:\n",
    "    with open(targetFileName, 'w') as resultFile:\n",
    "        json.dump({}, resultFile)\n",
    "\n",
    "for i in range(firstIndex, lastIndex+1):\n",
    "    artist = allArtist[i]\n",
    "    if artist not in targetFileData:\n",
    "        crawlAllSongOfArtist(artist)\n",
    "        with open(targetFileName, 'w') as resultFile:\n",
    "            json.dump({**allSongs, **targetFileData}, resultFile)"
   ]
  },
  {
   "cell_type": "markdown",
   "id": "e49cf3b9-668a-4514-9011-c3d6f66f47b8",
   "metadata": {},
   "source": [
    "https://api.socialcounts.org/youtube-video-live-view-count/8xg3vE8Ie_E"
   ]
  },
  {
   "cell_type": "code",
   "execution_count": null,
   "id": "d8a25a06-dc9b-4369-a40d-6de0fe7038ea",
   "metadata": {},
   "outputs": [],
   "source": [
    "allSongs"
   ]
  },
  {
   "cell_type": "code",
   "execution_count": null,
   "id": "7d65fe92-cb78-4c2c-8051-c08e3b537d41",
   "metadata": {},
   "outputs": [],
   "source": []
  }
 ],
 "metadata": {
  "kernelspec": {
   "display_name": "Python 3 (ipykernel)",
   "language": "python",
   "name": "python3"
  },
  "language_info": {
   "codemirror_mode": {
    "name": "ipython",
    "version": 3
   },
   "file_extension": ".py",
   "mimetype": "text/x-python",
   "name": "python",
   "nbconvert_exporter": "python",
   "pygments_lexer": "ipython3",
   "version": "3.12.0"
  }
 },
 "nbformat": 4,
 "nbformat_minor": 5
}
