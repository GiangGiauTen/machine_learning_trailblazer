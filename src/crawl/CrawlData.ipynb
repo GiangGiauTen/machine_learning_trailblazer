{
 "cells": [
  {
   "cell_type": "code",
   "execution_count": 6,
   "id": "d463051f-7cd3-4a2b-bcab-264f59b96c98",
   "metadata": {},
   "outputs": [],
   "source": [
    "# Chạy cell này đầu tiên\n",
    "from bs4 import BeautifulSoup\n",
    "from IPython.display import clear_output\n",
    "import requests\n",
    "import json\n",
    "import os\n",
    "import pandas as pd"
   ]
  },
  {
   "cell_type": "code",
   "execution_count": 7,
   "id": "c7e18a8c-38e5-4f5f-aece-892116479d4c",
   "metadata": {},
   "outputs": [
    {
     "data": {
      "text/plain": [
       "''"
      ]
     },
     "execution_count": 7,
     "metadata": {},
     "output_type": "execute_result"
    }
   ],
   "source": [
    "# Merge file\n",
    "# Không cần nhạy cell này\n",
    "'''\n",
    "from unidecode import unidecode\n",
    "\n",
    "json_files = {\n",
    "    \"VN\": \"artist_VietNam.json\", \n",
    "    \"JP\": \"artist_Japan.json\", \n",
    "    \"EU\": \"artist_EU.json\",\n",
    "    \"USUK\": \"artist_USUK.json\",\n",
    "    \"KR\": \"artist_Korea.json\",\n",
    "    \"Latin\": \"artist_Latin.json\"\n",
    "}\n",
    "\n",
    "\n",
    "def normalize_name(name):\n",
    "    return unidecode(name.lower())\n",
    "\n",
    "def filter_similar_names(names):\n",
    "    unique_names = set()\n",
    "    filtered_names = []\n",
    "    for name in names:\n",
    "        normalized_name = normalize_name(name)\n",
    "        if normalized_name not in unique_names:\n",
    "            unique_names.add(normalized_name)\n",
    "            filtered_names.append(name)\n",
    "    return filtered_names\n",
    "\n",
    "# Initialize an empty dictionary to store names and areas\n",
    "name_area_dict = {}\n",
    "\n",
    "# Loop through each JSON file\n",
    "for area, json_file in json_files.items():\n",
    "    with open(f\"./{json_file}\", 'r') as file:\n",
    "        names = json.load(file)\n",
    "        filtered_names = filter_similar_names(names)\n",
    "        for name in filtered_names:\n",
    "            if name in name_area_dict:\n",
    "                name_area_dict[name] += f';{area}'\n",
    "            else:\n",
    "                name_area_dict[name] = area\n",
    "\n",
    "# Convert the dictionary to a DataFrame\n",
    "df = pd.DataFrame(list(name_area_dict.items()), columns=['Name', 'Area'])\n",
    "\n",
    "# Save the DataFrame to a CSV file\n",
    "df.sort_values(by=['Name']).to_csv('artistDataset.csv', index=False)\n",
    "print(\"CSV file created successfully.\")\n",
    "'''\n",
    "''''''"
   ]
  },
  {
   "cell_type": "code",
   "execution_count": 8,
   "id": "31d7f355-3dd9-44e7-8b45-5fb3971a4c1c",
   "metadata": {},
   "outputs": [],
   "source": [
    "# Sau đó chạy cell này\n",
    "def getSongInfo(name, url):\n",
    "    try:\n",
    "        response = requests.get(url)\n",
    "        response.raise_for_status()\n",
    "        page_content = response.text\n",
    "        soup = BeautifulSoup(page_content, 'html.parser')\n",
    "        links = soup.select(\".play-this-track-playlinks .play-this-track-playlink\")\n",
    "        result = {}\n",
    "        for link in links:\n",
    "            result[link.getText().strip()] = link['href']\n",
    "        return result\n",
    "    except requests.exceptions.RequestException as e:\n",
    "        print(f\"Request error: {e}\")\n",
    "        return {}\n",
    "    except Exception as e:\n",
    "        print(f\"An error occurred: {e}\")\n",
    "        return {}\n",
    "def crawlAllSongOfArtist(artist):\n",
    "    try:\n",
    "        allSongsList = []\n",
    "        artistQuery = artist.replace(\"+\", \"%252B\").replace(\" \", \"+\")\n",
    "        url = f\"https://www.last.fm/music/{artistQuery}/+tracks?date_preset=ALL\"\n",
    "        response = requests.get(url)\n",
    "        response.raise_for_status()\n",
    "        page_content = response.text\n",
    "        soup = BeautifulSoup(page_content, 'html.parser')\n",
    "        pages = soup.find_all(attrs={\"class\": \"pagination-page\"})\n",
    "        last_page = int(pages[-1].find('a').get_text().strip()) if len(pages) else 1\n",
    "        for i in range(1, last_page+1):\n",
    "        # For test using: \n",
    "        #for i in range(1, 2):\n",
    "            res = requests.get(f\"{url}&page={i}\")\n",
    "            res.raise_for_status()\n",
    "            pg = res.text\n",
    "            soup = BeautifulSoup(pg, 'html.parser')\n",
    "            songs = soup.select(\"tr.chartlist-row > .chartlist-name > a\")\n",
    "            for song in songs:\n",
    "            # For test using: \n",
    "            #for song in songs[:5]:\n",
    "                songName = song.getText()\n",
    "                songUrl = song['href']\n",
    "                allSongsList.append([songName, getSongInfo(songName, f\"https://www.last.fm{songUrl}\")])\n",
    "                print(f\"artist: {artist} - page: {i}/{last_page} - song: {songName}\")\n",
    "                clear_output(wait=True)\n",
    "        return allSongsList\n",
    "    except requests.exceptions.RequestException as e:\n",
    "        print(f\"Request error: {e}\")\n",
    "        return []\n",
    "    except Exception as e:\n",
    "        print(f\"An error occurred: {e}\")\n",
    "        return []"
   ]
  },
  {
   "cell_type": "markdown",
   "id": "e49cf3b9-668a-4514-9011-c3d6f66f47b8",
   "metadata": {},
   "source": [
    "https://api.socialcounts.org/youtube-video-live-view-count/8xg3vE8Ie_E"
   ]
  }
 ],
 "metadata": {
  "kernelspec": {
   "display_name": "Python 3 (ipykernel)",
   "language": "python",
   "name": "python3"
  },
  "language_info": {
   "codemirror_mode": {
    "name": "ipython",
    "version": 3
   },
   "file_extension": ".py",
   "mimetype": "text/x-python",
   "name": "python",
   "nbconvert_exporter": "python",
   "pygments_lexer": "ipython3",
   "version": "3.11.5"
  }
 },
 "nbformat": 4,
 "nbformat_minor": 5
}
