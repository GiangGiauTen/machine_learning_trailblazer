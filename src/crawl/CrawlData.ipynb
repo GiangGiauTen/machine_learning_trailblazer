{
 "cells": [
  {
   "cell_type": "code",
   "execution_count": 1,
   "id": "d463051f-7cd3-4a2b-bcab-264f59b96c98",
   "metadata": {},
   "outputs": [],
   "source": [
    "# Chạy cell này đầu tiên\n",
    "from bs4 import BeautifulSoup\n",
    "from IPython.display import clear_output\n",
    "import requests\n",
    "import json\n",
    "import os"
   ]
  },
  {
   "cell_type": "code",
   "execution_count": 6,
   "id": "c7e18a8c-38e5-4f5f-aece-892116479d4c",
   "metadata": {},
   "outputs": [
    {
     "data": {
      "text/plain": [
       "'\\nallArtistList = set({})\\nwith open(\\'./artist_USUK.json\\') as file:\\n    allArtistList = set(json.loads(file.read()))\\nwith open(\\'./artist_EU.json\\') as file:\\n    allArtistList.update(set(json.loads(file.read())))\\nwith open(\\'./artist_Latin.json\\') as file:\\n    allArtistList.update(set(json.loads(file.read())))\\nwith open(\\'./artist_Japan.json\\') as file:\\n    allArtistList.update(set(json.loads(file.read())))\\nwith open(\\'./artist_Korea.json\\') as file:\\n    allArtistList.update(set(json.loads(file.read())))\\nwith open(\\'./artist_VietNam.json\\') as file:\\n    allArtistList.update(set(json.loads(file.read())))\\nwith open(\"./allArtist.json\", \\'w\\') as file:\\n    json.dump(list(allArtistList), file)\\nlen(allArtistList)\\n'"
      ]
     },
     "execution_count": 6,
     "metadata": {},
     "output_type": "execute_result"
    }
   ],
   "source": [
    "# Merge file\n",
    "# Không cần nhạy cell này\n",
    "'''\n",
    "allArtistList = set({})\n",
    "with open('./artist_USUK.json') as file:\n",
    "    allArtistList = set(json.loads(file.read()))\n",
    "with open('./artist_EU.json') as file:\n",
    "    allArtistList.update(set(json.loads(file.read())))\n",
    "with open('./artist_Latin.json') as file:\n",
    "    allArtistList.update(set(json.loads(file.read())))\n",
    "with open('./artist_Japan.json') as file:\n",
    "    allArtistList.update(set(json.loads(file.read())))\n",
    "with open('./artist_Korea.json') as file:\n",
    "    allArtistList.update(set(json.loads(file.read())))\n",
    "with open('./artist_VietNam.json') as file:\n",
    "    allArtistList.update(set(json.loads(file.read())))\n",
    "with open(\"./allArtist.json\", 'w') as file:\n",
    "    json.dump(list(allArtistList), file)\n",
    "len(allArtistList)\n",
    "'''"
   ]
  },
  {
   "cell_type": "code",
   "execution_count": 18,
   "id": "31d7f355-3dd9-44e7-8b45-5fb3971a4c1c",
   "metadata": {},
   "outputs": [],
   "source": [
    "# Sau đó chạy cell này\n",
    "def getSongInfo(name, url):\n",
    "    try:\n",
    "        response = requests.get(url)\n",
    "        response.raise_for_status()\n",
    "        page_content = response.text\n",
    "        soup = BeautifulSoup(page_content, 'html.parser')\n",
    "        links = soup.select(\".play-this-track-playlinks .play-this-track-playlink\")\n",
    "        result = {}\n",
    "        for link in links:\n",
    "            result[link.getText().strip()] = link['href']\n",
    "        return {name: result}\n",
    "    except requests.exceptions.RequestException as e:\n",
    "        print(f\"Request error: {e}\")\n",
    "        return {name: []}\n",
    "    except Exception as e:\n",
    "        print(f\"An error occurred: {e}\")\n",
    "        return {name: []}\n",
    "def crawlAllSongOfArtist(artist):\n",
    "    try:\n",
    "        allSongs[artist] = []\n",
    "        artistQuery = artist.replace(\" \", \"+\")\n",
    "        url = f\"https://www.last.fm/music/{artistQuery}/+tracks?date_preset=ALL\"\n",
    "        response = requests.get(url)\n",
    "        response.raise_for_status()\n",
    "        page_content = response.text\n",
    "        soup = BeautifulSoup(page_content, 'html.parser')\n",
    "        pages = soup.find_all(attrs={\"class\": \"pagination-page\"})\n",
    "        last_page = int(pages[-1].find('a').get_text().strip()) if len(pages) else 1\n",
    "        for i in range(1, last_page+1):\n",
    "        # For test using: \n",
    "        #for i in range(1, 2):\n",
    "            res = requests.get(f\"{url}&page={i}\")\n",
    "            res.raise_for_status()\n",
    "            pg = res.text\n",
    "            soup = BeautifulSoup(pg, 'html.parser')\n",
    "            songs = soup.select(\"tr.chartlist-row > .chartlist-name > a\")\n",
    "            for song in songs:\n",
    "            # For test using: \n",
    "            #for song in songs[:5]:\n",
    "                songName = song.getText()\n",
    "                songUrl = song['href']\n",
    "                allSongs[artist].append(getSongInfo(songName, f\"https://www.last.fm{songUrl}\"))\n",
    "                print(f\"artist: {artist} - page: {i}/{last_page} - song: {songName}\")\n",
    "                clear_output(wait=True)\n",
    "    except requests.exceptions.RequestException as e:\n",
    "        print(f\"Request error: {e}\")\n",
    "    except Exception as e:\n",
    "        print(f\"An error occurred: {e}\")"
   ]
  },
  {
   "cell_type": "code",
   "execution_count": 9,
   "id": "860860e4-9c1c-4d72-ae7b-1115f89555b6",
   "metadata": {},
   "outputs": [
    {
     "ename": "FileNotFoundError",
     "evalue": "[Errno 2] No such file or directory: './artistList.json'",
     "output_type": "error",
     "traceback": [
      "\u001b[1;31m---------------------------------------------------------------------------\u001b[0m",
      "\u001b[1;31mFileNotFoundError\u001b[0m                         Traceback (most recent call last)",
      "Cell \u001b[1;32mIn[9], line 18\u001b[0m\n\u001b[0;32m     16\u001b[0m targetFileName \u001b[38;5;241m=\u001b[39m \u001b[38;5;124mf\u001b[39m\u001b[38;5;124m'\u001b[39m\u001b[38;5;124m./songData\u001b[39m\u001b[38;5;132;01m{\u001b[39;00mfirstIndex\u001b[38;5;132;01m}\u001b[39;00m\u001b[38;5;124m-\u001b[39m\u001b[38;5;132;01m{\u001b[39;00mlastIndex\u001b[38;5;132;01m}\u001b[39;00m\u001b[38;5;124m.json\u001b[39m\u001b[38;5;124m'\u001b[39m\n\u001b[0;32m     17\u001b[0m \u001b[38;5;66;03m# File danh sách nghệ sĩ\u001b[39;00m\n\u001b[1;32m---> 18\u001b[0m \u001b[38;5;28;01mwith\u001b[39;00m \u001b[38;5;28;43mopen\u001b[39;49m\u001b[43m(\u001b[49m\u001b[38;5;124;43m'\u001b[39;49m\u001b[38;5;124;43m./artistList.json\u001b[39;49m\u001b[38;5;124;43m'\u001b[39;49m\u001b[43m)\u001b[49m \u001b[38;5;28;01mas\u001b[39;00m user_file:\n\u001b[0;32m     19\u001b[0m     file_contents \u001b[38;5;241m=\u001b[39m user_file\u001b[38;5;241m.\u001b[39mread()\n\u001b[0;32m     20\u001b[0m     allArtist \u001b[38;5;241m=\u001b[39m \u001b[38;5;28mlist\u001b[39m(json\u001b[38;5;241m.\u001b[39mloads(file_contents))\n",
      "File \u001b[1;32m~\\Projects\\machine_learning_trailblazer\\env\\Lib\\site-packages\\IPython\\core\\interactiveshell.py:286\u001b[0m, in \u001b[0;36m_modified_open\u001b[1;34m(file, *args, **kwargs)\u001b[0m\n\u001b[0;32m    279\u001b[0m \u001b[38;5;28;01mif\u001b[39;00m file \u001b[38;5;129;01min\u001b[39;00m {\u001b[38;5;241m0\u001b[39m, \u001b[38;5;241m1\u001b[39m, \u001b[38;5;241m2\u001b[39m}:\n\u001b[0;32m    280\u001b[0m     \u001b[38;5;28;01mraise\u001b[39;00m \u001b[38;5;167;01mValueError\u001b[39;00m(\n\u001b[0;32m    281\u001b[0m         \u001b[38;5;124mf\u001b[39m\u001b[38;5;124m\"\u001b[39m\u001b[38;5;124mIPython won\u001b[39m\u001b[38;5;124m'\u001b[39m\u001b[38;5;124mt let you open fd=\u001b[39m\u001b[38;5;132;01m{\u001b[39;00mfile\u001b[38;5;132;01m}\u001b[39;00m\u001b[38;5;124m by default \u001b[39m\u001b[38;5;124m\"\u001b[39m\n\u001b[0;32m    282\u001b[0m         \u001b[38;5;124m\"\u001b[39m\u001b[38;5;124mas it is likely to crash IPython. If you know what you are doing, \u001b[39m\u001b[38;5;124m\"\u001b[39m\n\u001b[0;32m    283\u001b[0m         \u001b[38;5;124m\"\u001b[39m\u001b[38;5;124myou can use builtins\u001b[39m\u001b[38;5;124m'\u001b[39m\u001b[38;5;124m open.\u001b[39m\u001b[38;5;124m\"\u001b[39m\n\u001b[0;32m    284\u001b[0m     )\n\u001b[1;32m--> 286\u001b[0m \u001b[38;5;28;01mreturn\u001b[39;00m \u001b[43mio_open\u001b[49m\u001b[43m(\u001b[49m\u001b[43mfile\u001b[49m\u001b[43m,\u001b[49m\u001b[43m \u001b[49m\u001b[38;5;241;43m*\u001b[39;49m\u001b[43margs\u001b[49m\u001b[43m,\u001b[49m\u001b[43m \u001b[49m\u001b[38;5;241;43m*\u001b[39;49m\u001b[38;5;241;43m*\u001b[39;49m\u001b[43mkwargs\u001b[49m\u001b[43m)\u001b[49m\n",
      "\u001b[1;31mFileNotFoundError\u001b[0m: [Errno 2] No such file or directory: './artistList.json'"
     ]
    }
   ],
   "source": [
    "'''\n",
    "Bắt đầu từ đây \n",
    "1. Đổi lại firstIndex và lastIndex dựa vào danh sách nghệ sĩ được yêu cầu\n",
    "2. Chạy cell này. Giữ internet ổn định và cắm máy đấy rồi đi làm việc khác\n",
    "Lưu ý: * Sau mỗi nghệ sĩ crawl thành công sẽ lưu vào file. \n",
    "Do đó có thể chạy tiếp cell này sau khi stop, tiến trình sẽ tiếp tục.\n",
    "Tuy nhiên nên hạn chế để tránh lỗi\n",
    "\n",
    "* Nếu thấy log bên dưới error, lập tức bấm Interrupt và kiểm tra lại internet\n",
    "'''\n",
    "allArtist = []\n",
    "targetFileData = {}\n",
    "allSongs = {}\n",
    "firstIndex = 0\n",
    "lastIndex = 5\n",
    "targetFileName = f'./songData{firstIndex}-{lastIndex}.json'\n",
    "# File danh sách nghệ sĩ\n",
    "with open('./artistList.json') as user_file:\n",
    "    file_contents = user_file.read()\n",
    "    allArtist = list(json.loads(file_contents))\n",
    "\n",
    "if os.path.exists(targetFileName):\n",
    "    with open(targetFileName) as resultFile:\n",
    "        file_contents = resultFile.read()\n",
    "        targetFileData = dict(json.loads(file_contents))\n",
    "else:\n",
    "    with open(targetFileName, 'w') as resultFile:\n",
    "        json.dump({}, resultFile)\n",
    "\n",
    "for i in range(firstIndex, lastIndex+1):\n",
    "    artist = allArtist[i]\n",
    "    if artist not in targetFileData:\n",
    "        crawlAllSongOfArtist(artist)\n",
    "        with open(targetFileName, 'w') as resultFile:\n",
    "            json.dump({**allSongs, **targetFileData}, resultFile)"
   ]
  },
  {
   "cell_type": "markdown",
   "id": "e49cf3b9-668a-4514-9011-c3d6f66f47b8",
   "metadata": {},
   "source": [
    "https://api.socialcounts.org/youtube-video-live-view-count/8xg3vE8Ie_E"
   ]
  },
  {
   "cell_type": "code",
   "execution_count": 21,
   "id": "d8a25a06-dc9b-4369-a40d-6de0fe7038ea",
   "metadata": {},
   "outputs": [
    {
     "data": {
      "text/plain": [
       "{'1Dee': [{'Mắt Xanh': {}},\n",
       "  {'Mr Say Đắm': {}},\n",
       "  {'Get Some More': {}},\n",
       "  {\"Don't Worry\": {}},\n",
       "  {'Tan Biến Trong Em (feat. JayM)': {}},\n",
       "  {'ZOMBIE': {}},\n",
       "  {'DREAMY DUST': {}},\n",
       "  {'DREAMY DUST (feat. 2T)': {}},\n",
       "  {'Mắt Xanh (Beat)': {}},\n",
       "  {'WTMZ': {}},\n",
       "  {'Mắt Xanh - Beat Version': {}},\n",
       "  {'I Dreamed A Love': {}},\n",
       "  {'Giữ Lấy': {}},\n",
       "  {'Happily': {}},\n",
       "  {'DREAMY DUST (feat. So Hi, Devilman TYO & 2T)': {}},\n",
       "  {'Nói Đi Em - Beat': {}},\n",
       "  {'Act My Age': {}},\n",
       "  {'Stockholm Syndrome': {}},\n",
       "  {'Sẽ Thế Nào (feat. JayM)': {}},\n",
       "  {'Im Still Riding (feat. Drasta, Kancc)': {}},\n",
       "  {'Về Lại Quá Khứ': {}},\n",
       "  {'Sợ Em Buồn - Beat': {}},\n",
       "  {'Ta Đi Tìm Đến': {'Spotify': 'https://open.spotify.com/track/7el4K4tsaKgx3JQVyRD7IP'}},\n",
       "  {'Live Young Live Free': {}},\n",
       "  {'BOYFRIEND': {}},\n",
       "  {'LETSDANZE': {}},\n",
       "  {'Tan Biến Trong Em - Beat': {}},\n",
       "  {'IM STILL LOVING YOU - Beat': {}},\n",
       "  {'Đợi Em Một Chút': {}}]}"
      ]
     },
     "execution_count": 21,
     "metadata": {},
     "output_type": "execute_result"
    }
   ],
   "source": [
    "allSongs"
   ]
  },
  {
   "cell_type": "code",
   "execution_count": 20,
   "id": "7d65fe92-cb78-4c2c-8051-c08e3b537d41",
   "metadata": {},
   "outputs": [
    {
     "name": "stdout",
     "output_type": "stream",
     "text": [
      "artist: 1Dee - page: 1/2 - song: Đợi Em Một Chút\n"
     ]
    }
   ],
   "source": [
    "crawlAllSongOfArtist(\"1Dee\")\n"
   ]
  },
  {
   "cell_type": "code",
   "execution_count": null,
   "id": "b8b80db2-9b8c-49be-a947-fb79d0e69798",
   "metadata": {},
   "outputs": [],
   "source": []
  }
 ],
 "metadata": {
  "kernelspec": {
   "display_name": "Python 3 (ipykernel)",
   "language": "python",
   "name": "python3"
  },
  "language_info": {
   "codemirror_mode": {
    "name": "ipython",
    "version": 3
   },
   "file_extension": ".py",
   "mimetype": "text/x-python",
   "name": "python",
   "nbconvert_exporter": "python",
   "pygments_lexer": "ipython3",
   "version": "3.12.0"
  }
 },
 "nbformat": 4,
 "nbformat_minor": 5
}
