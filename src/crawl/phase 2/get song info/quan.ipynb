{
 "cells": [
  {
   "cell_type": "code",
   "execution_count": null,
   "id": "9691d475-926d-4b05-a71f-cce9b5c5489b",
   "metadata": {},
   "outputs": [],
   "source": [
    "import json\n",
    "import os\n",
    "import pandas as pd\n",
    "import time\n",
    "import spotipy\n",
    "from spotipy.oauth2 import SpotifyClientCredentials\n",
    "from IPython.display import clear_output"
   ]
  },
  {
   "cell_type": "code",
   "execution_count": null,
   "id": "3e929081-471f-4b30-b9e0-1f64e9b13450",
   "metadata": {},
   "outputs": [],
   "source": [
    "client_id = \"174068e000474d4ca4531e5139e4dfc4\"  \n",
    "client_secret = \"fab2340588c143a38f65b027c0a27df6\""
   ]
  },
  {
   "cell_type": "code",
   "execution_count": null,
   "id": "4562c6ff-072c-4ebc-a955-aaa30714b4d2",
   "metadata": {},
   "outputs": [],
   "source": [
    "client_credentials_manager = SpotifyClientCredentials(client_id=client_id, client_secret=client_secret)\n",
    "sp = spotipy.Spotify(client_credentials_manager=client_credentials_manager)\n",
    "def get_track_feature(track_id_array):\n",
    "    return sp.audio_features(track_id_array)"
   ]
  },
  {
   "cell_type": "code",
   "execution_count": null,
   "id": "c411e6c8-ad09-48b3-90d0-97147e58f17c",
   "metadata": {},
   "outputs": [],
   "source": [
    "\n",
    "filter_data = pd.read_csv(\"../../../handle/song_data.csv\")\n",
    "update_data = filter_data[filter_data['danceability'].isnull()]\n",
    "link_arr = list(update_data[\"spotify_link\"])\n",
    "parts = [link_arr[i:i+50] for i in range(0, len(link_arr), 50)]"
   ]
  },
  {
   "cell_type": "code",
   "execution_count": null,
   "id": "419b3bc8-e1b4-4451-8595-bba3ff12b99c",
   "metadata": {},
   "outputs": [],
   "source": [
    "fetch_data = []\n",
    "for id, part in enumerate(parts):\n",
    "###### 1:\n",
    "    if id < 1999 or id > 3500:\n",
    "        continue\n",
    "########\n",
    "    try:\n",
    "        print(id)\n",
    "        fetch_data.append(get_track_feature(part))\n",
    "        clear_output(wait=True)\n",
    "    except Exception as e:\n",
    "        print(f\"An error occurred: {e}\")  \n",
    "        break\n",
    "fetch_data = [x for xs in fetch_data for x in xs]"
   ]
  },
  {
   "cell_type": "code",
   "execution_count": null,
   "id": "d31dbea8-1997-4d84-b090-44c2e78072a7",
   "metadata": {},
   "outputs": [],
   "source": [
    "for id, feature_dict in enumerate(fetch_data):\n",
    "    try:\n",
    "        print(f'{id}/{len(fetch_data)}')\n",
    "        track_id = feature_dict['id']\n",
    "        matching_row = update_data[update_data['spotify_link'] == track_id]\n",
    "        if not matching_row.empty:\n",
    "            common_features = set(update_data.columns) & set(feature_dict.keys())\n",
    "            for feature in common_features:\n",
    "                if feature != 'id':\n",
    "                    update_data.loc[matching_row.index, feature] = feature_dict[feature]\n",
    "    except TypeError as e:\n",
    "        print(f\"Caught a TypeError: {e}\") \n",
    "        continue\n",
    "    except Exception as e:\n",
    "        print(f\"An error occurred: {e}\")\n",
    "        continue\n",
    "    clear_output(wait=True)\n",
    "update_data.to_csv('../../../handle/song_data3.csv', index=False)"
   ]
  }
 ],
 "metadata": {
  "kernelspec": {
   "display_name": "Python 3 (ipykernel)",
   "language": "python",
   "name": "python3"
  },
  "language_info": {
   "codemirror_mode": {
    "name": "ipython",
    "version": 3
   },
   "file_extension": ".py",
   "mimetype": "text/x-python",
   "name": "python",
   "nbconvert_exporter": "python",
   "pygments_lexer": "ipython3",
   "version": "3.10.8"
  }
 },
 "nbformat": 4,
 "nbformat_minor": 5
}
