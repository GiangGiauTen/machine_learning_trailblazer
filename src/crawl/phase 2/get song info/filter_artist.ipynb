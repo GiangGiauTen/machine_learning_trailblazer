{
 "cells": [
  {
   "cell_type": "code",
   "execution_count": 5,
   "id": "351b0f6d-eade-49a8-9a64-271db16c1948",
   "metadata": {},
   "outputs": [],
   "source": [
    "from fuzzywuzzy import fuzz\n",
    "import pandas as pd"
   ]
  },
  {
   "cell_type": "code",
   "execution_count": 11,
   "id": "53c95d49-334f-405c-91d8-20300243f635",
   "metadata": {},
   "outputs": [],
   "source": [
    "artistFile = \"../../phase 1/artistDataset.csv\"\n",
    "dataFrame = pd.read_csv(artistFile)"
   ]
  },
  {
   "cell_type": "code",
   "execution_count": 24,
   "id": "515660b9-4f64-4b6c-aa8a-68cfaf3a6bc4",
   "metadata": {},
   "outputs": [],
   "source": [
    "artistArray = dataFrame[\"Name\"].to_numpy().astype(\"str\")"
   ]
  },
  {
   "cell_type": "code",
   "execution_count": null,
   "id": "2869c2d5-a8a8-489d-b5ce-f727914963bf",
   "metadata": {},
   "outputs": [],
   "source": [
    "# Threshold for similarity ratio\n",
    "threshold = 75\n",
    "# Loop through the array and calculate similarity ratios\n",
    "similar_pairs = []\n",
    "for i in range(len(artistArray)):\n",
    "    for j in range(i + 1, len(artistArray)):\n",
    "        similarity_ratio = fuzz.ratio(artistArray[i], artistArray[j])\n",
    "        if similarity_ratio > threshold:\n",
    "            similar_pairs.append((artistArray[j], artistArray[j], similarity_ratio))"
   ]
  },
  {
   "cell_type": "code",
   "execution_count": 17,
   "id": "67b705ab-d5e8-456b-acf7-c9bbf2b5501f",
   "metadata": {},
   "outputs": [
    {
     "data": {
      "text/plain": [
       "56"
      ]
     },
     "execution_count": 17,
     "metadata": {},
     "output_type": "execute_result"
    }
   ],
   "source": [
    "similar_pairs"
   ]
  },
  {
   "cell_type": "code",
   "execution_count": 22,
   "id": "3b9666a4-21d8-4156-905b-53e38d92e38a",
   "metadata": {},
   "outputs": [
    {
     "data": {
      "text/plain": [
       "array(['\"#Botsu\"', '\"Charro\" Avitia', '\"El Cholo\" Valderrama', ...,\n",
       "       'ｔｈｅ ＬＯＴＵＳ', 'ｙｔｒ', '𝗛𝗢𝗠𝟯'], dtype=object)"
      ]
     },
     "execution_count": 22,
     "metadata": {},
     "output_type": "execute_result"
    }
   ],
   "source": [
    "artistArray"
   ]
  },
  {
   "cell_type": "code",
   "execution_count": null,
   "id": "83e145d1-ab97-490a-8a1e-e1b2589e05ab",
   "metadata": {},
   "outputs": [],
   "source": []
  }
 ],
 "metadata": {
  "kernelspec": {
   "display_name": "Python 3 (ipykernel)",
   "language": "python",
   "name": "python3"
  },
  "language_info": {
   "codemirror_mode": {
    "name": "ipython",
    "version": 3
   },
   "file_extension": ".py",
   "mimetype": "text/x-python",
   "name": "python",
   "nbconvert_exporter": "python",
   "pygments_lexer": "ipython3",
   "version": "3.12.0"
  }
 },
 "nbformat": 4,
 "nbformat_minor": 5
}
