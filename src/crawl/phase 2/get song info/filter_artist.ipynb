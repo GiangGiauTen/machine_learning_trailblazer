{
 "cells": [
  {
   "cell_type": "code",
   "execution_count": 1,
   "id": "dd2d0bc8-0ed9-4080-a385-7e59d49a8453",
   "metadata": {},
   "outputs": [],
   "source": [
    "import pandas as pd\n",
    "import spotipy\n",
    "from spotipy.oauth2 import SpotifyClientCredentials\n",
    "from fuzzywuzzy import fuzz\n",
    "from IPython.display import clear_output\n",
    "from unidecode import unidecode\n",
    "import json"
   ]
  },
  {
   "cell_type": "code",
   "execution_count": null,
   "id": "0ee9d1b0",
   "metadata": {},
   "outputs": [],
   "source": [
    "csv_file_path = 'updated_file2.csv'\n",
    "df = pd.read_csv(csv_file_path)\n",
    "client_id = \"a99ffa06a321488cb67864813d788cde\"\n",
    "client_secret = \"6f429dc975c2442e9bb59e9ef2f1927c\"\n",
    "client_credentials_manager = SpotifyClientCredentials(client_id=client_id, client_secret=client_secret)\n",
    "sp = spotipy.Spotify(client_credentials_manager=client_credentials_manager)\n",
    "\n"
   ]
  },
  {
   "cell_type": "code",
   "execution_count": null,
   "id": "c753adac-ecab-4027-8107-9590dd04ad3d",
   "metadata": {},
   "outputs": [],
   "source": [
    "lim = 5\n",
    "area_cvt = {\n",
    "    \"USUK\": \"US\",\n",
    "    \"Latin\": \"US\",\n",
    "    \"KR\": \"KR\",\n",
    "    \"VN\": \"VN\",\n",
    "    \"JP\": \"JP\"\n",
    "}\n",
    "filter_list = {}\n",
    "for index, row in df.iterrows():\n",
    "    if float(row['Similarity_ratio']) >= 70 or index < 566:\n",
    "        print(f'{index}-skip')\n",
    "        continue\n",
    "    print(index)\n",
    "    artist_name = row['Name']\n",
    "    filter_list[artist_name] = []\n",
    "    q = f\"artist:{artist_name}\"\n",
    "    \n",
    "    if row[\"Area\"] in area_cvt.keys():\n",
    "        market = area_cvt[row[\"Area\"]]\n",
    "    else: \n",
    "        market = \"US\"\n",
    "    \n",
    "    res = sp.search(q, limit=lim, offset=0, type='artist', market=market)\n",
    "    \n",
    "    if res[\"artists\"][\"items\"]:\n",
    "        for i in range(len(res[\"artists\"][\"items\"])):  \n",
    "            spotify_name = res[\"artists\"][\"items\"][i][\"name\"]\n",
    "            spotify_id = res[\"artists\"][\"items\"][i][\"id\"]\n",
    "            filter_list[artist_name].append({\n",
    "                \"name\": spotify_name,\n",
    "                \"spotify_id\": spotify_id\n",
    "            })\n",
    "    clear_output(wait=True)\n",
    "    \n",
    "with open('artist_filter2.json', 'w') as json_file:\n",
    "    json.dump(filter_list, json_file, indent=2)"
   ]
  },
  {
   "cell_type": "code",
   "execution_count": null,
   "id": "6add75a0-1aba-49be-9d13-275085312214",
   "metadata": {},
   "outputs": [],
   "source": [
    "csv_file_path = 'updated_file.csv'\n",
    "df = pd.read_csv(csv_file_path)\n",
    "for index, row in df.iterrows():\n",
    "    print(index)\n",
    "    artist_name = row['Name']\n",
    "    spotify_name = row['Spotify_Name']\n",
    "    artist_name_cleaned = unidecode(str(artist_name)).lower()\n",
    "    spotify_name_cleaned = unidecode(str(spotify_name)).lower()\n",
    "    similarity_ratio = fuzz.ratio(artist_name_cleaned, spotify_name_cleaned)\n",
    "    df.at[index, 'Similarity_ratio'] = similarity_ratio\n",
    "    clear_output(wait=True)\n",
    "\n",
    "df.to_csv('updated_file2.csv', index=False)\n"
   ]
  },
  {
   "cell_type": "code",
   "execution_count": null,
   "id": "2a6edbeb",
   "metadata": {},
   "outputs": [],
   "source": [
    "df.to_csv('updated_file2.csv', index=False)\n"
   ]
  },
  {
   "cell_type": "code",
   "execution_count": null,
   "id": "e351f056",
   "metadata": {},
   "outputs": [],
   "source": [
    "df.to_csv('updated_file.csv', index=False)\n"
   ]
  },
  {
   "cell_type": "code",
   "execution_count": null,
   "id": "58c7c857",
   "metadata": {},
   "outputs": [],
   "source": [
    "q = f\"artist:Blackpink\"\n",
    "res = sp.search(q, limit=5, offset=0, type='artist', market=(\"KR\"))\n",
    "print(res)"
   ]
  },
  {
   "cell_type": "code",
   "execution_count": null,
   "id": "d14ea137-0781-46f4-a030-c3f5e37b6ef3",
   "metadata": {},
   "outputs": [],
   "source": [
    "with open('artist_filter.json', 'w') as json_file:\n",
    "    json.dump(filter_list, json_file, indent=2)"
   ]
  },
  {
   "cell_type": "code",
   "execution_count": null,
   "id": "e0e5db7d-87a3-4cb3-be01-a2c684a57850",
   "metadata": {},
   "outputs": [],
   "source": [
    "len(filter_list)"
   ]
  },
  {
   "cell_type": "code",
   "execution_count": 9,
   "id": "edee35d9-ab6a-4825-b6e1-ed4597e41998",
   "metadata": {},
   "outputs": [],
   "source": [
    "csv_file_path = 'updated_file2.csv'\n",
    "df = pd.read_csv(csv_file_path)"
   ]
  },
  {
   "cell_type": "code",
   "execution_count": 34,
   "id": "e36b4c97-eff7-480a-8573-2acf4320bae2",
   "metadata": {},
   "outputs": [],
   "source": [
    "with open('updateList.json', encoding='utf-8') as json_file:\n",
    "    update_data = json.load(json_file)"
   ]
  },
  {
   "cell_type": "code",
   "execution_count": 35,
   "id": "60379da7-75a2-4f9e-a39d-6cc80bad8c18",
   "metadata": {},
   "outputs": [],
   "source": [
    "df = df[~df['Name'].isin(update_data['remove_list'])]\n",
    "df['Spotify_ID'] = df['Spotify_ID'].replace(update_data['change_list'])"
   ]
  },
  {
   "cell_type": "code",
   "execution_count": 39,
   "id": "cae211d5-a9eb-4d5b-91ee-484ae583c368",
   "metadata": {},
   "outputs": [],
   "source": [
    "df = df.dropna(subset=['Spotify_ID'])\n",
    "df.to_csv('updated_file3.csv', index=False)"
   ]
  },
  {
   "cell_type": "code",
   "execution_count": null,
   "id": "7697be28-f982-4c84-a2f5-f422ebf7ead9",
   "metadata": {},
   "outputs": [],
   "source": [
    "update_data"
   ]
  },
  {
   "cell_type": "code",
   "execution_count": 38,
   "id": "ed618dee-5498-421f-9277-e9d76520dfcf",
   "metadata": {},
   "outputs": [
    {
     "data": {
      "text/plain": [
       "False"
      ]
     },
     "execution_count": 38,
     "metadata": {},
     "output_type": "execute_result"
    }
   ],
   "source": [
    "\"다비\" in df[\"Name\"]"
   ]
  },
  {
   "cell_type": "code",
   "execution_count": null,
   "id": "9ae5d754-8581-48de-bcf3-72286ce331bc",
   "metadata": {},
   "outputs": [],
   "source": []
  }
 ],
 "metadata": {
  "kernelspec": {
   "display_name": "Python 3 (ipykernel)",
   "language": "python",
   "name": "python3"
  },
  "language_info": {
   "codemirror_mode": {
    "name": "ipython",
    "version": 3
   },
   "file_extension": ".py",
   "mimetype": "text/x-python",
   "name": "python",
   "nbconvert_exporter": "python",
   "pygments_lexer": "ipython3",
   "version": "3.10.8"
  }
 },
 "nbformat": 4,
 "nbformat_minor": 5
}
