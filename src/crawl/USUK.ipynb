{
 "cells": [
  {
   "cell_type": "code",
   "execution_count": 11,
   "id": "ea9d5771-8e1b-4455-90d8-075a51b98dc7",
   "metadata": {},
   "outputs": [],
   "source": [
    "from bs4 import BeautifulSoup\n",
    "import requests\n",
    "import json\n"
   ]
  },
  {
   "cell_type": "code",
   "execution_count": 12,
   "id": "6edb16bc-bf72-4ca4-ad9c-ad059fec55ff",
   "metadata": {},
   "outputs": [],
   "source": [
    "with open('../../resource/USUK_artist.json') as user_file:\n",
    "    file_contents = user_file.read()\n",
    "    parsed_json = set(json.loads(file_contents))"
   ]
  },
  {
   "cell_type": "code",
   "execution_count": null,
   "id": "308258d8-4749-4cc6-907b-f5d514f14d7a",
   "metadata": {},
   "outputs": [],
   "source": [
    "def getData(url):\n",
    "    try:\n",
    "        response = requests.get(url)\n",
    "        response.raise_for_status()\n",
    "        page_content = response.text\n",
    "        soup = BeautifulSoup(page_content, 'html.parser')\n",
    "    except requests.exceptions.RequestException as e:\n",
    "        print(f\"Request error: {e}\")\n",
    "    except Exception as e:\n",
    "        print(f\"An error occurred: {e}\")\n",
    "\n",
    "page_content = \"\"\n",
    "\n",
    "def get_all_similar_artist(url):\n",
    "    try:\n",
    "        response = requests.get(url)\n",
    "        response.raise_for_status()\n",
    "        page_content = response.text\n",
    "        soup = BeautifulSoup(page_content, 'html.parser')\n",
    "        similar_artists = soup.select(\".similar-artists-item-name > a\")\n",
    "        for artist in similar_artists:\n",
    "            print(artist.get_text().strip())\n",
    "\n",
    "\n",
    "    except requests.exceptions.RequestException as e:\n",
    "        print(f\"Request error: {e}\")\n",
    "    except Exception as e:\n",
    "        print(f\"An error occurred: {e}\")\n",
    "\n",
    "def findSimilarArtist(url):\n",
    "    try:\n",
    "        response = requests.get(url)\n",
    "        response.raise_for_status()\n",
    "        global page_content \n",
    "        page_content = response.text\n",
    "        soup = BeautifulSoup(page_content, 'html.parser')\n",
    "        last_page = int(soup.find_all(attrs={\"class\": \"pagination-page\"})[-1].find('a').get_text().strip())\n",
    "        for i in range(1, last_page+1):\n",
    "            get_all_similar_artist(f\"https://www.last.fm/music/Taylor+Swift/+similar?page={i}\")\n",
    "    except requests.exceptions.RequestException as e:\n",
    "        print(f\"Request error: {e}\")\n",
    "    except Exception as e:\n",
    "        print(f\"An error occurred: {e}\")"
   ]
  },
  {
   "cell_type": "code",
   "execution_count": null,
   "id": "4e1fb762-f4dd-420c-b622-2cc258b565b5",
   "metadata": {},
   "outputs": [],
   "source": [
    "getData(\"https://www.last.fm/music/Taylor+Swift/+tracks?date_preset=ALL&page=2\")"
   ]
  },
  {
   "cell_type": "code",
   "execution_count": null,
   "id": "fdbd64bf-c4f1-4e7e-be44-12cc0f3190e7",
   "metadata": {},
   "outputs": [],
   "source": [
    "findSimilarArtist(\"https://www.last.fm/music/Taylor+Swift/+similar\")"
   ]
  },
  {
   "cell_type": "code",
   "execution_count": 44,
   "id": "9b8badd7-e544-48bb-8636-86f157598c3f",
   "metadata": {},
   "outputs": [
    {
     "name": "stdout",
     "output_type": "stream",
     "text": [
      "25\n"
     ]
    }
   ],
   "source": [
    "soup = BeautifulSoup(page_content, 'html.parser')"
   ]
  },
  {
   "cell_type": "code",
   "execution_count": null,
   "id": "da74be67-5a7c-4516-8039-3fe1925b4051",
   "metadata": {},
   "outputs": [],
   "source": []
  }
 ],
 "metadata": {
  "kernelspec": {
   "display_name": "Python 3 (ipykernel)",
   "language": "python",
   "name": "python3"
  },
  "language_info": {
   "codemirror_mode": {
    "name": "ipython",
    "version": 3
   },
   "file_extension": ".py",
   "mimetype": "text/x-python",
   "name": "python",
   "nbconvert_exporter": "python",
   "pygments_lexer": "ipython3",
   "version": "3.12.0"
  }
 },
 "nbformat": 4,
 "nbformat_minor": 5
}
