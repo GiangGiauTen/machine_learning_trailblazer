{
 "cells": [
  {
   "cell_type": "code",
   "execution_count": 1,
   "id": "ea9d5771-8e1b-4455-90d8-075a51b98dc7",
   "metadata": {},
   "outputs": [],
   "source": [
    "from bs4 import BeautifulSoup\n",
    "import requests\n",
    "import json\n"
   ]
  },
  {
   "cell_type": "code",
   "execution_count": 2,
   "id": "6edb16bc-bf72-4ca4-ad9c-ad059fec55ff",
   "metadata": {},
   "outputs": [],
   "source": [
    "with open('../../resource/USUK_artist.json') as user_file:\n",
    "    file_contents = user_file.read()\n",
    "    parsed_json = set(json.loads(file_contents))\n",
    "newList = set({})"
   ]
  },
  {
   "cell_type": "code",
   "execution_count": 3,
   "id": "308258d8-4749-4cc6-907b-f5d514f14d7a",
   "metadata": {},
   "outputs": [],
   "source": [
    "def getData(url):\n",
    "    try:\n",
    "        response = requests.get(url)\n",
    "        response.raise_for_status()\n",
    "        page_content = response.text\n",
    "        soup = BeautifulSoup(page_content, 'html.parser')\n",
    "    except requests.exceptions.RequestException as e:\n",
    "        print(f\"Request error: {e}\")\n",
    "    except Exception as e:\n",
    "        print(f\"An error occurred: {e}\")\n",
    "\n",
    "def get_all_similar_artist(url):\n",
    "    try:\n",
    "        response = requests.get(url)\n",
    "        response.raise_for_status()\n",
    "        page_content = response.text\n",
    "        soup = BeautifulSoup(page_content, 'html.parser')\n",
    "        similar_artists = soup.select(\".similar-artists-item-name > a\")\n",
    "        for artist in similar_artists:\n",
    "            if \",\" in artist or \"&\" in artist:\n",
    "                continue\n",
    "            newList.add(artist.get_text().strip())\n",
    "    except requests.exceptions.RequestException as e:\n",
    "        print(f\"Request error: {e}\")\n",
    "    except Exception as e:\n",
    "        print(f\"An error occurred: {e}\")\n",
    "\n",
    "def findSimilarArtist(url):\n",
    "    try:\n",
    "        response = requests.get(url)\n",
    "        response.raise_for_status()\n",
    "        global page_content \n",
    "        page_content = response.text\n",
    "        soup = BeautifulSoup(page_content, 'html.parser')\n",
    "        last_page = int(soup.find_all(attrs={\"class\": \"pagination-page\"})[-1].find('a').get_text().strip())\n",
    "        for i in range(1, last_page+1):\n",
    "            get_all_similar_artist(f\"{url}?page={i}\")\n",
    "    except requests.exceptions.RequestException as e:\n",
    "        print(f\"Request error: {e}\")\n",
    "    except Exception as e:\n",
    "        print(f\"An error occurred: {e}\")"
   ]
  },
  {
   "cell_type": "code",
   "execution_count": null,
   "id": "da74be67-5a7c-4516-8039-3fe1925b4051",
   "metadata": {},
   "outputs": [],
   "source": [
    "for artist in parsed_json.copy():\n",
    "    print(artist)\n",
    "    newList.add(artist)\n",
    "    artist_queue = artist.replace(\" \", \"+\")\n",
    "    findSimilarArtist(f\"https://www.last.fm/music/{artist_queue}/+similar\")\n",
    "    parsed_json.remove(artist)"
   ]
  },
  {
   "cell_type": "code",
   "execution_count": 9,
   "id": "230cc7ed-549c-4b0b-8c32-b5ca3263ae52",
   "metadata": {},
   "outputs": [
    {
     "data": {
      "text/plain": [
       "5658"
      ]
     },
     "execution_count": 9,
     "metadata": {},
     "output_type": "execute_result"
    }
   ],
   "source": [
    "len(newList)"
   ]
  },
  {
   "cell_type": "code",
   "execution_count": null,
   "id": "9e777872-b20c-48bd-8482-20957ad245da",
   "metadata": {},
   "outputs": [],
   "source": [
    "with open('../../resource/USUK_artist.json') as user_file:\n",
    "    file_contents = user_file.read()\n",
    "    parsed_json = set(json.loads(file_contents))\n",
    "newList.update(parsed_json)\n",
    "newList"
   ]
  },
  {
   "cell_type": "code",
   "execution_count": 12,
   "id": "97b0cd60-bb9d-46ec-9705-6db74c0bec63",
   "metadata": {},
   "outputs": [],
   "source": [
    "result = filter(lambda artist: ',' not in artist, newList)\n",
    "result = filter(lambda artist: '&' not in artist, result)\n",
    "result = filter(lambda artist: 'feat' not in artist, result)\n",
    "result = list(result)"
   ]
  },
  {
   "cell_type": "code",
   "execution_count": 13,
   "id": "70467ea4-9d6f-4cb0-afc2-7375b4ba3899",
   "metadata": {},
   "outputs": [
    {
     "data": {
      "text/plain": [
       "5289"
      ]
     },
     "execution_count": 13,
     "metadata": {},
     "output_type": "execute_result"
    }
   ],
   "source": [
    "len(result)"
   ]
  },
  {
   "cell_type": "code",
   "execution_count": 14,
   "id": "484724a8-f615-49ce-9ae5-0eb184c8bc4d",
   "metadata": {},
   "outputs": [],
   "source": [
    "result.sort()\n",
    "with open(\"artistList.json\", \"w\") as outfile:\n",
    "    json.dump(result, outfile)"
   ]
  },
  {
   "cell_type": "code",
   "execution_count": null,
   "id": "7c6211fc-fb95-422c-b77e-cbcf54a9c9e0",
   "metadata": {},
   "outputs": [],
   "source": []
  }
 ],
 "metadata": {
  "kernelspec": {
   "display_name": "Python 3 (ipykernel)",
   "language": "python",
   "name": "python3"
  },
  "language_info": {
   "codemirror_mode": {
    "name": "ipython",
    "version": 3
   },
   "file_extension": ".py",
   "mimetype": "text/x-python",
   "name": "python",
   "nbconvert_exporter": "python",
   "pygments_lexer": "ipython3",
   "version": "3.12.0"
  }
 },
 "nbformat": 4,
 "nbformat_minor": 5
}
