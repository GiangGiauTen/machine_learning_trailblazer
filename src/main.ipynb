{
 "cells": [
  {
   "cell_type": "raw",
   "id": "7af492cb-ae2b-4e01-baaf-425f2ea2a54a",
   "metadata": {},
   "source": [
    "\\begin{center}\n",
    "    \\LARGE\n",
    "    \\title{Báo cáo bài tập lớn}\n",
    "    \\subtitle{Học máy và khai phá dữ liệu}\n",
    "    \\textbf{Chủ đề: }\n",
    "    \\vspace{2.0cm}\n",
    "    \\begin{figure}[h]\n",
    "        \\centering\n",
    "        \\includegraphics[width=0.3\\textwidth]{hust_logo.png}\n",
    "        \\label{fig:sample_image}\n",
    "    \\end{figure}\n",
    "    \\vspace{2.0cm}\n",
    "    \\normalsize\n",
    "\n",
    "    Thành viên: \\\\\n",
    "    Đào Nhật Minh - 20200392 \\\\\n",
    "    Trần Minh Quân - \\\\\n",
    "    Lê Trường Giang - \\\\\n",
    "    Hoàng Minh Ngọc - \\\\\n",
    "    Hoàng Lê Tiến Long - \\\\\n",
    "    GV hướng dẫn: ThS. Ngô Văn Linh\\\\\n",
    "    \\vspace{0.8cm}\n",
    "    Đại học Bách Khoa Hà Nội\\\\\n",
    "    Trường Công nghệ thông tin và truyền thông\\\\\n",
    "\\end{center}\n",
    "\\newpage\n",
    "\\renewcommand{\\contentsname}{Mục lục}\n",
    "\\tableofcontents\n",
    "\\newpage\n"
   ]
  },
  {
   "cell_type": "code",
   "execution_count": null,
   "id": "c17d85e6-93d2-48b3-b08e-cfc1599c4445",
   "metadata": {},
   "outputs": [],
   "source": [
    "print(\"Hello\")\n"
   ]
  },
  {
   "cell_type": "code",
   "execution_count": null,
   "id": "79e16ea5-01c1-4db9-8e50-8c7e23a01950",
   "metadata": {},
   "outputs": [],
   "source": []
  }
 ],
 "metadata": {
  "author": "Nimi",
  "authors": [
   "Học máy và khai phá dữ liệu"
  ],
  "kernelspec": {
   "display_name": "Python 3 (ipykernel)",
   "language": "python",
   "name": "python3"
  },
  "language_info": {
   "codemirror_mode": {
    "name": "ipython",
    "version": 3
   },
   "file_extension": ".py",
   "mimetype": "text/x-python",
   "name": "python",
   "nbconvert_exporter": "python",
   "pygments_lexer": "ipython3",
   "version": "3.10.8"
  },
  "logo": "./hust_logo.png",
  "title": "Báo cáo bài tập lớn"
 },
 "nbformat": 4,
 "nbformat_minor": 5
}
